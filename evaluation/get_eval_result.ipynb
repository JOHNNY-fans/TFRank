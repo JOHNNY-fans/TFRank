{
 "cells": [
  {
   "cell_type": "markdown",
   "metadata": {},
   "source": [
    "## bm25 TFRank-8B SFT+GRPO (Qwen3)"
   ]
  },
  {
   "cell_type": "code",
   "execution_count": 5,
   "metadata": {},
   "outputs": [
    {
     "name": "stdout",
     "output_type": "stream",
     "text": [
      "  0%|                                                    | 0/12 [00:00<?, ?it/s]/Users/yongqifan/Documents/code/TFRank/evaluation/rank_results/BRIGHT/tfrank-sft-grpo-qwen3-8B-nothink/aops.rearanker_msmarco_only_grpo-qwen3-8B_pointwise_no_think.jsonl\n",
      "/Users/yongqifan/Documents/code/TFRank/evaluation/rank_results/BRIGHT/tfrank-sft-grpo-qwen3-8B-nothink/biology.rearanker_msmarco_only_grpo-qwen3-8B_pointwise_no_think.jsonl\n",
      " 17%|███████▎                                    | 2/12 [00:00<00:00, 18.45it/s]/Users/yongqifan/Documents/code/TFRank/evaluation/rank_results/BRIGHT/tfrank-sft-grpo-qwen3-8B-nothink/earth_science.rearanker_msmarco_only_grpo-qwen3-8B_pointwise_no_think.jsonl\n",
      "/Users/yongqifan/Documents/code/TFRank/evaluation/rank_results/BRIGHT/tfrank-sft-grpo-qwen3-8B-nothink/economics.rearanker_msmarco_only_grpo-qwen3-8B_pointwise_no_think.jsonl\n",
      " 33%|██████████████▋                             | 4/12 [00:00<00:00, 16.99it/s]/Users/yongqifan/Documents/code/TFRank/evaluation/rank_results/BRIGHT/tfrank-sft-grpo-qwen3-8B-nothink/leetcode.rearanker_msmarco_only_grpo-qwen3-8B_pointwise_no_think.jsonl\n",
      "/Users/yongqifan/Documents/code/TFRank/evaluation/rank_results/BRIGHT/tfrank-sft-grpo-qwen3-8B-nothink/pony.rearanker_msmarco_only_grpo-qwen3-8B_pointwise_no_think.jsonl\n",
      " 50%|██████████████████████                      | 6/12 [00:00<00:00, 16.86it/s]/Users/yongqifan/Documents/code/TFRank/evaluation/rank_results/BRIGHT/tfrank-sft-grpo-qwen3-8B-nothink/psychology.rearanker_msmarco_only_grpo-qwen3-8B_pointwise_no_think.jsonl\n",
      "/Users/yongqifan/Documents/code/TFRank/evaluation/rank_results/BRIGHT/tfrank-sft-grpo-qwen3-8B-nothink/robotics.rearanker_msmarco_only_grpo-qwen3-8B_pointwise_no_think.jsonl\n",
      " 67%|█████████████████████████████▎              | 8/12 [00:00<00:00, 16.97it/s]/Users/yongqifan/Documents/code/TFRank/evaluation/rank_results/BRIGHT/tfrank-sft-grpo-qwen3-8B-nothink/stackoverflow.rearanker_msmarco_only_grpo-qwen3-8B_pointwise_no_think.jsonl\n",
      "/Users/yongqifan/Documents/code/TFRank/evaluation/rank_results/BRIGHT/tfrank-sft-grpo-qwen3-8B-nothink/sustainable_living.rearanker_msmarco_only_grpo-qwen3-8B_pointwise_no_think.jsonl\n",
      " 83%|███████████████████████████████████▊       | 10/12 [00:00<00:00, 16.10it/s]/Users/yongqifan/Documents/code/TFRank/evaluation/rank_results/BRIGHT/tfrank-sft-grpo-qwen3-8B-nothink/theoremqa_questions.rearanker_msmarco_only_grpo-qwen3-8B_pointwise_no_think.jsonl\n",
      "/Users/yongqifan/Documents/code/TFRank/evaluation/rank_results/BRIGHT/tfrank-sft-grpo-qwen3-8B-nothink/theoremqa_theorems.rearanker_msmarco_only_grpo-qwen3-8B_pointwise_no_think.jsonl\n",
      "100%|███████████████████████████████████████████| 12/12 [00:00<00:00, 15.64it/s]\n",
      "*******************\n",
      "Label!!!!!\n",
      "Bio. Earth. Econ. Psy. Rob. Stack. Sus. Leet. Pony AoPS TheoQ. TheoT.\n",
      "33.3 45.4   24.0  26.5 23.3 17.1   21.8 30.3  13.9 10.1 11.5   9.0   \n",
      "copy\n",
      "*******************\n",
      "YesNo!!!!!\n",
      "Bio. Earth. Econ. Psy. Rob. Stack. Sus. Leet. Pony AoPS TheoQ. TheoT.\n",
      "32.0 44.2   24.0  24.4 25.1 22.0   25.0 26.5  10.0 11.3 10.1   9.0   \n",
      "copy\n",
      "*******************\n",
      "Merge!!!!!\n",
      "Bio. Earth. Econ. Psy. Rob. Stack. Sus. Leet. Pony AoPS TheoQ. TheoT.\n",
      "33.7 46.2   23.7  26.0 24.1 20.1   23.6 28.8  12.5 10.8 11.4   9.7   \n",
      "copy\n",
      "33.3 & 45.4 & 24.0 & 26.5 & 23.3 & 17.1 & 21.8 & 30.3 & 13.9 & 10.1 & 11.5 & 9.0 & 22.2 \\\\\n",
      "32.0 & 44.2 & 24.0 & 24.4 & 25.1 & 22.0 & 25.0 & 26.5 & 10.0 & 11.3 & 10.1 & 9.0 & 22.0 \\\\\n",
      "33.7 & 46.2 & 23.7 & 26.0 & 24.1 & 20.1 & 23.6 & 28.8 & 12.5 & 10.8 & 11.4 & 9.7 & 22.6 \\\\\n",
      "\n",
      "结果已写入: ./eval_results/rank_results.BRIGHT.tfrank-sft-grpo-qwen3-8B-nothink.eval_results.txt\n"
     ]
    }
   ],
   "source": [
    "!python eval_metrics.py \\\n",
    "  --result_dir \"./rank_results/BRIGHT/tfrank-sft-grpo-qwen3-8B-nothink\" \\\n",
    "  --qrels_dir \"./qrels/BRIGHT\" \\\n",
    "  --config \"./config/bright_config.json\" \\\n",
    "  --output_dir \"./eval_results\" "
   ]
  },
  {
   "cell_type": "markdown",
   "metadata": {},
   "source": [
    "## ReasonIR-8B TFRank-8B SFT+GRPO (Qwen3)"
   ]
  },
  {
   "cell_type": "code",
   "execution_count": 4,
   "metadata": {},
   "outputs": [
    {
     "name": "stdout",
     "output_type": "stream",
     "text": [
      "  0%|                                                    | 0/12 [00:00<?, ?it/s]/Users/yongqifan/Documents/code/TFRank/evaluation/rank_results/BRIGHT_reasonir_gpt4/tfrank-sft-grpo-qwen3-8B-nothink/aops.rearanker_msmarco_only_grpo-qwen3-8B_pointwise_no_think.jsonl\n",
      "/Users/yongqifan/Documents/code/TFRank/evaluation/rank_results/BRIGHT_reasonir_gpt4/tfrank-sft-grpo-qwen3-8B-nothink/biology.rearanker_msmarco_only_grpo-qwen3-8B_pointwise_no_think.jsonl\n",
      "/Users/yongqifan/Documents/code/TFRank/evaluation/rank_results/BRIGHT_reasonir_gpt4/tfrank-sft-grpo-qwen3-8B-nothink/earth_science.rearanker_msmarco_only_grpo-qwen3-8B_pointwise_no_think.jsonl\n",
      " 25%|███████████                                 | 3/12 [00:00<00:00, 27.05it/s]/Users/yongqifan/Documents/code/TFRank/evaluation/rank_results/BRIGHT_reasonir_gpt4/tfrank-sft-grpo-qwen3-8B-nothink/economics.rearanker_msmarco_only_grpo-qwen3-8B_pointwise_no_think.jsonl\n",
      "/Users/yongqifan/Documents/code/TFRank/evaluation/rank_results/BRIGHT_reasonir_gpt4/tfrank-sft-grpo-qwen3-8B-nothink/leetcode.rearanker_msmarco_only_grpo-qwen3-8B_pointwise_no_think.jsonl\n",
      "/Users/yongqifan/Documents/code/TFRank/evaluation/rank_results/BRIGHT_reasonir_gpt4/tfrank-sft-grpo-qwen3-8B-nothink/pony.rearanker_msmarco_only_grpo-qwen3-8B_pointwise_no_think.jsonl\n",
      " 50%|██████████████████████                      | 6/12 [00:00<00:00, 25.93it/s]/Users/yongqifan/Documents/code/TFRank/evaluation/rank_results/BRIGHT_reasonir_gpt4/tfrank-sft-grpo-qwen3-8B-nothink/psychology.rearanker_msmarco_only_grpo-qwen3-8B_pointwise_no_think.jsonl\n",
      "/Users/yongqifan/Documents/code/TFRank/evaluation/rank_results/BRIGHT_reasonir_gpt4/tfrank-sft-grpo-qwen3-8B-nothink/robotics.rearanker_msmarco_only_grpo-qwen3-8B_pointwise_no_think.jsonl\n",
      "/Users/yongqifan/Documents/code/TFRank/evaluation/rank_results/BRIGHT_reasonir_gpt4/tfrank-sft-grpo-qwen3-8B-nothink/stackoverflow.rearanker_msmarco_only_grpo-qwen3-8B_pointwise_no_think.jsonl\n",
      " 75%|█████████████████████████████████           | 9/12 [00:00<00:00, 26.75it/s]/Users/yongqifan/Documents/code/TFRank/evaluation/rank_results/BRIGHT_reasonir_gpt4/tfrank-sft-grpo-qwen3-8B-nothink/sustainable_living.rearanker_msmarco_only_grpo-qwen3-8B_pointwise_no_think.jsonl\n",
      "/Users/yongqifan/Documents/code/TFRank/evaluation/rank_results/BRIGHT_reasonir_gpt4/tfrank-sft-grpo-qwen3-8B-nothink/theoremqa_questions.rearanker_msmarco_only_grpo-qwen3-8B_pointwise_no_think.jsonl\n",
      "/Users/yongqifan/Documents/code/TFRank/evaluation/rank_results/BRIGHT_reasonir_gpt4/tfrank-sft-grpo-qwen3-8B-nothink/theoremqa_theorems.rearanker_msmarco_only_grpo-qwen3-8B_pointwise_no_think.jsonl\n",
      "100%|███████████████████████████████████████████| 12/12 [00:00<00:00, 25.81it/s]\n",
      "*******************\n",
      "Label!!!!!\n",
      "Bio. Earth. Econ. Psy. Rob. Stack. Sus. Leet. Pony AoPS TheoQ. TheoT.\n",
      "47.5 43.7   29.6  38.6 21.6 20.9   28.1 27.4  25.2 5.6  31.2   37.1  \n",
      "copy\n",
      "*******************\n",
      "YesNo!!!!!\n",
      "Bio. Earth. Econ. Psy. Rob. Stack. Sus. Leet. Pony AoPS TheoQ. TheoT.\n",
      "52.1 43.3   28.8  37.6 26.3 27.1   34.7 27.8  17.5 9.5  31.4   37.8  \n",
      "copy\n",
      "*******************\n",
      "Merge!!!!!\n",
      "Bio. Earth. Econ. Psy. Rob. Stack. Sus. Leet. Pony AoPS TheoQ. TheoT.\n",
      "51.7 44.1   31.5  37.6 25.1 24.8   31.0 26.8  23.8 7.0  31.8   39.6  \n",
      "copy\n",
      "47.5 & 43.7 & 29.6 & 38.6 & 21.6 & 20.9 & 28.1 & 27.4 & 25.2 & 5.6 & 31.2 & 37.1 & 29.7 \\\\\n",
      "52.1 & 43.3 & 28.8 & 37.6 & 26.3 & 27.1 & 34.7 & 27.8 & 17.5 & 9.5 & 31.4 & 37.8 & 31.2 \\\\\n",
      "51.7 & 44.1 & 31.5 & 37.6 & 25.1 & 24.8 & 31.0 & 26.8 & 23.8 & 7.0 & 31.8 & 39.6 & 31.2 \\\\\n",
      "\n",
      "结果已写入: ./eval_results/rank_results.BRIGHT_reasonir_gpt4.tfrank-sft-grpo-qwen3-8B-nothink.eval_results.txt\n"
     ]
    }
   ],
   "source": [
    "!python eval_metrics.py \\\n",
    "  --result_dir \"./rank_results/BRIGHT_reasonir_gpt4/tfrank-sft-grpo-qwen3-8B-nothink\" \\\n",
    "  --qrels_dir \"./qrels/BRIGHT\" \\\n",
    "  --config \"./config/bright_config.json\" \\\n",
    "  --output_dir \"./eval_results\""
   ]
  },
  {
   "cell_type": "code",
   "execution_count": 1,
   "metadata": {},
   "outputs": [
    {
     "name": "stdout",
     "output_type": "stream",
     "text": [
      "Processing /Users/yongqifan/Documents/code/TFRank/evaluation/rank_results/BRIGHT/tfrank-sft-grpo-qwen3-8B-nothink/psychology.rearanker_msmarco_only_grpo-qwen3-8B_pointwise_no_think.jsonl\n",
      "Processing /Users/yongqifan/Documents/code/TFRank/evaluation/rank_results/BRIGHT/tfrank-sft-grpo-qwen3-8B-nothink/pony.rearanker_msmarco_only_grpo-qwen3-8B_pointwise_no_think.jsonl\n",
      "Processing /Users/yongqifan/Documents/code/TFRank/evaluation/rank_results/BRIGHT/tfrank-sft-grpo-qwen3-8B-nothink/biology.rearanker_msmarco_only_grpo-qwen3-8B_pointwise_no_think.jsonl\n",
      "Processing /Users/yongqifan/Documents/code/TFRank/evaluation/rank_results/BRIGHT/tfrank-sft-grpo-qwen3-8B-nothink/robotics.rearanker_msmarco_only_grpo-qwen3-8B_pointwise_no_think.jsonl\n",
      "Processing /Users/yongqifan/Documents/code/TFRank/evaluation/rank_results/BRIGHT/tfrank-sft-grpo-qwen3-8B-nothink/theoremqa_theorems.rearanker_msmarco_only_grpo-qwen3-8B_pointwise_no_think.jsonl\n",
      "Processing /Users/yongqifan/Documents/code/TFRank/evaluation/rank_results/BRIGHT/tfrank-sft-grpo-qwen3-8B-nothink/aops.rearanker_msmarco_only_grpo-qwen3-8B_pointwise_no_think.jsonl\n",
      "Processing /Users/yongqifan/Documents/code/TFRank/evaluation/rank_results/BRIGHT/tfrank-sft-grpo-qwen3-8B-nothink/leetcode.rearanker_msmarco_only_grpo-qwen3-8B_pointwise_no_think.jsonl\n",
      "Processing /Users/yongqifan/Documents/code/TFRank/evaluation/rank_results/BRIGHT/tfrank-sft-grpo-qwen3-8B-nothink/earth_science.rearanker_msmarco_only_grpo-qwen3-8B_pointwise_no_think.jsonl\n",
      "Processing /Users/yongqifan/Documents/code/TFRank/evaluation/rank_results/BRIGHT/tfrank-sft-grpo-qwen3-8B-nothink/theoremqa_questions.rearanker_msmarco_only_grpo-qwen3-8B_pointwise_no_think.jsonl\n",
      "Processing /Users/yongqifan/Documents/code/TFRank/evaluation/rank_results/BRIGHT/tfrank-sft-grpo-qwen3-8B-nothink/economics.rearanker_msmarco_only_grpo-qwen3-8B_pointwise_no_think.jsonl\n",
      "Processing /Users/yongqifan/Documents/code/TFRank/evaluation/rank_results/BRIGHT/tfrank-sft-grpo-qwen3-8B-nothink/stackoverflow.rearanker_msmarco_only_grpo-qwen3-8B_pointwise_no_think.jsonl\n",
      "Processing /Users/yongqifan/Documents/code/TFRank/evaluation/rank_results/BRIGHT/tfrank-sft-grpo-qwen3-8B-nothink/sustainable_living.rearanker_msmarco_only_grpo-qwen3-8B_pointwise_no_think.jsonl\n"
     ]
    }
   ],
   "source": [
    "import os\n",
    "import json\n",
    "\n",
    "def process_jsonl_files(folder_path):\n",
    "    for filename in os.listdir(folder_path):\n",
    "        if filename.endswith('.jsonl'):\n",
    "            file_path = os.path.join(folder_path, filename)\n",
    "            print(f'Processing {file_path}')\n",
    "            new_lines = []\n",
    "            with open(file_path, 'r', encoding='utf-8') as f:\n",
    "                for line in f:\n",
    "                    obj = json.loads(line)\n",
    "                    # 置空 query 和 doc\n",
    "                    if 'query' in obj:\n",
    "                        obj['query'] = \"\"\n",
    "                    if 'passage' in obj:\n",
    "                        obj['passage'] = \"\"\n",
    "                    # 移除 input 字段\n",
    "                    if 'input' in obj:\n",
    "                        obj.pop('input')\n",
    "                    new_lines.append(json.dumps(obj, ensure_ascii=False))\n",
    "            # 覆盖写回原文件\n",
    "            with open(file_path, 'w', encoding='utf-8') as f:\n",
    "                for line in new_lines:\n",
    "                    f.write(line + '\\n')\n",
    "\n",
    "# 用法示例\n",
    "folder = '/Users/yongqifan/Documents/code/TFRank/evaluation/rank_results/BRIGHT/tfrank-sft-grpo-qwen3-8B-nothink'   # 替换为你的目录路径\n",
    "process_jsonl_files(folder)\n"
   ]
  }
 ],
 "metadata": {
  "kernelspec": {
   "display_name": "pyserini-env",
   "language": "python",
   "name": "python3"
  },
  "language_info": {
   "codemirror_mode": {
    "name": "ipython",
    "version": 3
   },
   "file_extension": ".py",
   "mimetype": "text/x-python",
   "name": "python",
   "nbconvert_exporter": "python",
   "pygments_lexer": "ipython3",
   "version": "3.11.13"
  }
 },
 "nbformat": 4,
 "nbformat_minor": 2
}
